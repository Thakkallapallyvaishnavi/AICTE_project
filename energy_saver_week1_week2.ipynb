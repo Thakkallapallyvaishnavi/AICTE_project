{
 "cells": [
  {
   "cell_type": "markdown",
   "id": "eede5f10",
   "metadata": {},
   "source": [
    "Project : Energy Consumption Prediction for Smart Homes"
   ]
  },
  {
   "cell_type": "markdown",
   "id": "8822d87a",
   "metadata": {},
   "source": [
    "Week 1:"
   ]
  },
  {
   "cell_type": "markdown",
   "id": "fae572b1",
   "metadata": {},
   "source": [
    "Define the problem: \n",
    "\n",
    "Predict household energy consumption based on historical usage, weather, and appliance usage.\n",
    "\n",
    "Goal: Improve efficiency by identifying wastage & forecasting demand."
   ]
  },
  {
   "cell_type": "markdown",
   "id": "84cbdca4",
   "metadata": {},
   "source": [
    "Data Collection:\n",
    "\n",
    "Download dataset from Kaggle (search: \"Household Power Consumption Dataset\").\n",
    "\n",
    "Save dataset as .csv."
   ]
  },
  {
   "cell_type": "markdown",
   "id": "39fe8d29",
   "metadata": {},
   "source": [
    "libraries: pip install pandas numpy matplotlib scikit-learn jupyter notebook seaborn"
   ]
  },
  {
   "cell_type": "code",
   "execution_count": 12,
   "id": "04d4f954",
   "metadata": {},
   "outputs": [],
   "source": [
    "from pathlib import Path\n",
    "\n",
    "# === UPDATE THIS PATH ===\n",
    "DATA_PATH = Path('data/household_power_consumption.csv')\n"
   ]
  },
  {
   "cell_type": "code",
   "execution_count": 13,
   "id": "bd6b1299",
   "metadata": {},
   "outputs": [
    {
     "data": {
      "text/html": [
       "<div>\n",
       "<style scoped>\n",
       "    .dataframe tbody tr th:only-of-type {\n",
       "        vertical-align: middle;\n",
       "    }\n",
       "\n",
       "    .dataframe tbody tr th {\n",
       "        vertical-align: top;\n",
       "    }\n",
       "\n",
       "    .dataframe thead th {\n",
       "        text-align: right;\n",
       "    }\n",
       "</style>\n",
       "<table border=\"1\" class=\"dataframe\">\n",
       "  <thead>\n",
       "    <tr style=\"text-align: right;\">\n",
       "      <th></th>\n",
       "      <th>Date</th>\n",
       "      <th>Time</th>\n",
       "      <th>Global_active_power</th>\n",
       "      <th>Global_reactive_power</th>\n",
       "      <th>Voltage</th>\n",
       "      <th>Global_intensity</th>\n",
       "      <th>Sub_metering_1</th>\n",
       "      <th>Sub_metering_2</th>\n",
       "      <th>Sub_metering_3</th>\n",
       "    </tr>\n",
       "  </thead>\n",
       "  <tbody>\n",
       "    <tr>\n",
       "      <th>0</th>\n",
       "      <td>16/12/2006</td>\n",
       "      <td>17:24:00</td>\n",
       "      <td>4.216</td>\n",
       "      <td>0.418</td>\n",
       "      <td>234.84</td>\n",
       "      <td>18.4</td>\n",
       "      <td>0</td>\n",
       "      <td>1</td>\n",
       "      <td>17.0</td>\n",
       "    </tr>\n",
       "    <tr>\n",
       "      <th>1</th>\n",
       "      <td>16/12/2006</td>\n",
       "      <td>17:25:00</td>\n",
       "      <td>5.36</td>\n",
       "      <td>0.436</td>\n",
       "      <td>233.63</td>\n",
       "      <td>23</td>\n",
       "      <td>0</td>\n",
       "      <td>1</td>\n",
       "      <td>16.0</td>\n",
       "    </tr>\n",
       "    <tr>\n",
       "      <th>2</th>\n",
       "      <td>16/12/2006</td>\n",
       "      <td>17:26:00</td>\n",
       "      <td>5.374</td>\n",
       "      <td>0.498</td>\n",
       "      <td>233.29</td>\n",
       "      <td>23</td>\n",
       "      <td>0</td>\n",
       "      <td>2</td>\n",
       "      <td>17.0</td>\n",
       "    </tr>\n",
       "    <tr>\n",
       "      <th>3</th>\n",
       "      <td>16/12/2006</td>\n",
       "      <td>17:27:00</td>\n",
       "      <td>5.388</td>\n",
       "      <td>0.502</td>\n",
       "      <td>233.74</td>\n",
       "      <td>23</td>\n",
       "      <td>0</td>\n",
       "      <td>1</td>\n",
       "      <td>17.0</td>\n",
       "    </tr>\n",
       "    <tr>\n",
       "      <th>4</th>\n",
       "      <td>16/12/2006</td>\n",
       "      <td>17:28:00</td>\n",
       "      <td>3.666</td>\n",
       "      <td>0.528</td>\n",
       "      <td>235.68</td>\n",
       "      <td>15.8</td>\n",
       "      <td>0</td>\n",
       "      <td>1</td>\n",
       "      <td>17.0</td>\n",
       "    </tr>\n",
       "  </tbody>\n",
       "</table>\n",
       "</div>"
      ],
      "text/plain": [
       "         Date      Time Global_active_power Global_reactive_power Voltage  \\\n",
       "0  16/12/2006  17:24:00               4.216                 0.418  234.84   \n",
       "1  16/12/2006  17:25:00                5.36                 0.436  233.63   \n",
       "2  16/12/2006  17:26:00               5.374                 0.498  233.29   \n",
       "3  16/12/2006  17:27:00               5.388                 0.502  233.74   \n",
       "4  16/12/2006  17:28:00               3.666                 0.528  235.68   \n",
       "\n",
       "  Global_intensity Sub_metering_1 Sub_metering_2  Sub_metering_3  \n",
       "0             18.4              0              1            17.0  \n",
       "1               23              0              1            16.0  \n",
       "2               23              0              2            17.0  \n",
       "3               23              0              1            17.0  \n",
       "4             15.8              0              1            17.0  "
      ]
     },
     "execution_count": 13,
     "metadata": {},
     "output_type": "execute_result"
    }
   ],
   "source": [
    "import pandas as pd\n",
    "\n",
    "# Correct relative path\n",
    "DATA_PATH = \"data/household_power_consumption.csv\"\n",
    "\n",
    "# Load dataset\n",
    "df = pd.read_csv(DATA_PATH)\n",
    "\n",
    "# Show first few rows\n",
    "df.head()\n"
   ]
  },
  {
   "cell_type": "code",
   "execution_count": 14,
   "id": "4c70c213",
   "metadata": {},
   "outputs": [
    {
     "name": "stdout",
     "output_type": "stream",
     "text": [
      "Dataset Shape: (1048575, 9)\n",
      "\n",
      "Dataset Info:\n",
      "<class 'pandas.core.frame.DataFrame'>\n",
      "RangeIndex: 1048575 entries, 0 to 1048574\n",
      "Data columns (total 9 columns):\n",
      " #   Column                 Non-Null Count    Dtype  \n",
      "---  ------                 --------------    -----  \n",
      " 0   Date                   1048575 non-null  object \n",
      " 1   Time                   1048575 non-null  object \n",
      " 2   Global_active_power    1048575 non-null  object \n",
      " 3   Global_reactive_power  1048575 non-null  object \n",
      " 4   Voltage                1048575 non-null  object \n",
      " 5   Global_intensity       1048575 non-null  object \n",
      " 6   Sub_metering_1         1048575 non-null  object \n",
      " 7   Sub_metering_2         1048575 non-null  object \n",
      " 8   Sub_metering_3         1044506 non-null  float64\n",
      "dtypes: float64(1), object(8)\n",
      "memory usage: 72.0+ MB\n",
      "None\n",
      "\n",
      "Summary Statistics:\n",
      "       Sub_metering_3\n",
      "count    1.044506e+06\n",
      "mean     5.933837e+00\n",
      "std      8.210398e+00\n",
      "min      0.000000e+00\n",
      "25%      0.000000e+00\n",
      "50%      0.000000e+00\n",
      "75%      1.700000e+01\n",
      "max      3.100000e+01\n",
      "\n",
      "Missing Values:\n",
      "Date                        0\n",
      "Time                        0\n",
      "Global_active_power         0\n",
      "Global_reactive_power       0\n",
      "Voltage                     0\n",
      "Global_intensity            0\n",
      "Sub_metering_1              0\n",
      "Sub_metering_2              0\n",
      "Sub_metering_3           4069\n",
      "dtype: int64\n"
     ]
    }
   ],
   "source": [
    "# Shape of dataset (rows, columns)\n",
    "print(\"Dataset Shape:\", df.shape)\n",
    "\n",
    "# Column names and data types\n",
    "print(\"\\nDataset Info:\")\n",
    "print(df.info())\n",
    "\n",
    "# Summary statistics\n",
    "print(\"\\nSummary Statistics:\")\n",
    "print(df.describe())\n",
    "\n",
    "# Check missing/null values\n",
    "print(\"\\nMissing Values:\")\n",
    "print(df.isnull().sum())\n"
   ]
  },
  {
   "cell_type": "code",
   "execution_count": 15,
   "id": "f84b28fe",
   "metadata": {},
   "outputs": [
    {
     "name": "stdout",
     "output_type": "stream",
     "text": [
      "After Cleaning Shape: (1044506, 9)\n"
     ]
    }
   ],
   "source": [
    "# Drop duplicate rows if any\n",
    "df = df.drop_duplicates()\n",
    "\n",
    "# Drop rows with null values (or you could fill them)\n",
    "df = df.dropna()\n",
    "\n",
    "print(\"After Cleaning Shape:\", df.shape)\n"
   ]
  },
  {
   "cell_type": "code",
   "execution_count": 16,
   "id": "7f370f6c",
   "metadata": {},
   "outputs": [
    {
     "name": "stdout",
     "output_type": "stream",
     "text": [
      "Training set size: (835604, 8)\n",
      "Testing set size: (208902, 8)\n"
     ]
    }
   ],
   "source": [
    "from sklearn.model_selection import train_test_split\n",
    "\n",
    "# Suppose \"Global_active_power\" is the target (what we want to predict)\n",
    "X = df.drop(\"Global_active_power\",  axis=1)  # features\n",
    "y = df[\"Global_active_power\"]               # target\n",
    "\n",
    "# Split into 80% train, 20% test\n",
    "X_train, X_test, y_train, y_test = train_test_split(X, y, test_size=0.2, random_state=42)\n",
    "\n",
    "print(\"Training set size:\", X_train.shape)\n",
    "print(\"Testing set size:\", X_test.shape)\n"
   ]
  },
  {
   "cell_type": "markdown",
   "id": "9a9c08cc",
   "metadata": {},
   "source": [
    "Week-2: Algorithm Selection\n",
    "        Model Training\n",
    "        Model Evaluation"
   ]
  },
  {
   "cell_type": "code",
   "execution_count": 17,
   "id": "a8736580",
   "metadata": {},
   "outputs": [
    {
     "name": "stdout",
     "output_type": "stream",
     "text": [
      "Training set size: (835604, 8)\n",
      "Testing set size: (208902, 8)\n",
      "Mean Squared Error: 0.0017326361874635827\n",
      "R-squared: 0.9986483105109576\n"
     ]
    },
    {
     "data": {
      "image/png": "[encoded data removed]",
      "text/plain": [
       "<Figure size 1000x500 with 1 Axes>"
      ]
     },
     "metadata": {},
     "output_type": "display_data"
    }
   ],
   "source": [
    "from sklearn.linear_model import LinearRegression\n",
    "from sklearn.metrics import mean_squared_error, r2_score\n",
    "from sklearn.model_selection import train_test_split\n",
    "import pandas as pd\n",
    "import matplotlib.pyplot as plt\n",
    "\n",
    "# -----------------------------\n",
    "# Week 2: Model Building\n",
    "# -----------------------------\n",
    "\n",
    "# Convert 'Date' and 'Time' to numeric\n",
    "df['Date_numeric'] = pd.to_datetime(df['Date'], format='%d/%m/%Y').map(pd.Timestamp.timestamp)\n",
    "df['Time_numeric'] = pd.to_timedelta(df['Time']).dt.total_seconds()\n",
    "\n",
    "# Define features and target\n",
    "X = df.drop(['Global_active_power', 'Date', 'Time'], axis=1)\n",
    "y = df['Global_active_power']\n",
    "\n",
    "# Split into training and testing sets\n",
    "X_train, X_test, y_train, y_test = train_test_split(\n",
    "    X, y, test_size=0.2, random_state=42\n",
    ")\n",
    "\n",
    "print(\"Training set size:\", X_train.shape)\n",
    "print(\"Testing set size:\", X_test.shape)\n",
    "\n",
    "# Train Linear Regression Model\n",
    "model = LinearRegression()\n",
    "model.fit(X_train, y_train)\n",
    "\n",
    "# Make predictions\n",
    "y_pred = model.predict(X_test)\n",
    "\n",
    "# Evaluate Model\n",
    "mse = mean_squared_error(y_test, y_pred)\n",
    "r2 = r2_score(y_test, y_pred)\n",
    "\n",
    "print(\"Mean Squared Error:\", mse)\n",
    "print(\"R-squared:\", r2)\n",
    "\n",
    "# -----------------------------\n",
    "# Plot: Actual vs Predicted\n",
    "# -----------------------------\n",
    "plt.figure(figsize=(10,5))\n",
    "plt.plot(y_test.values, label='Actual', color='blue')\n",
    "plt.plot(y_pred, label='Predicted', color='red', alpha=0.7)\n",
    "plt.title('Actual vs Predicted Global Active Power')\n",
    "plt.xlabel('Sample Index')\n",
    "plt.ylabel('Global Active Power')\n",
    "plt.legend()\n",
    "plt.show()\n"
   ]
  }
 ],
 "metadata": {
  "kernelspec": {
   "display_name": "venv",
   "language": "python",
   "name": "python3"
  },
  "language_info": {
   "codemirror_mode": {
    "name": "ipython",
    "version": 3
   },
   "file_extension": ".py",
   "mimetype": "text/x-python",
   "name": "python",
   "nbconvert_exporter": "python",
   "pygments_lexer": "ipython3",
   "version": "3.9.13"
  }
 },
 "nbformat": 4,
 "nbformat_minor": 5
}
